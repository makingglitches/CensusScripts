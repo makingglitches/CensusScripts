{
    "metadata": {
        "kernelspec": {
            "name": "SQL",
            "display_name": "SQL",
            "language": "sql"
        },
        "language_info": {
            "name": "sql",
            "version": ""
        }
    },
    "nbformat_minor": 2,
    "nbformat": 4,
    "cells": [
        {
            "cell_type": "markdown",
            "source": [
                "So I thought I'd make use of this wonderful newish technology to kind of layout where the datasource is at this very moment.\n",
                "\n",
                "The main database should be named Geography.\n",
                "\n",
                "As I was in the habit of doing at one of my jobs,  the scripts are ordered by filename beneath the main repository directory:\n",
                "\n",
                "> Queries\\\\Census Scipts\n",
                "\n",
                "There is included also a SQL Management studio project along with this.\n",
                "\n",
                "Running the scripts in order should create the database and all its tables, without the data of course.\n",
                "\n",
                "The major project for populating the larger datasets is presently to be found under:\n",
                "\n",
                "> MinersAndPrograms\\\\ImportShapeFilesAndDBF  \n",
                "\n",
                "This program requires VS 2019 to build and run and will access a variety of files provided by the US government as part of its standard data package. \n",
                "\n",
                "Further indexing queries are planned.\n",
                "\n",
                "  \n",
                "\n",
                "The central table of this database for my own use was intended to be the \"Census20XX\" table.\n",
                "\n",
                "The most recent census data will be loaded into this."
            ],
            "metadata": {
                "azdata_cell_guid": "143447be-318d-472a-89f4-f35e6fb5c597"
            }
        },
        {
            "cell_type": "code",
            "source": [
                "use GEOGRAPHY\r\n",
                "go\r\n",
                "\r\n",
                "select top 4 * from dbo.Census2018"
            ],
            "metadata": {
                "azdata_cell_guid": "1bb19d23-ed17-44d9-893a-dd0a9bb941b6"
            },
            "outputs": [
                {
                    "output_type": "display_data",
                    "data": {
                        "text/html": "Commands completed successfully."
                    },
                    "metadata": {}
                },
                {
                    "output_type": "display_data",
                    "data": {
                        "text/html": "(4 rows affected)"
                    },
                    "metadata": {}
                },
                {
                    "output_type": "display_data",
                    "data": {
                        "text/html": "Total execution time: 00:00:00.063"
                    },
                    "metadata": {}
                },
                {
                    "output_type": "execute_result",
                    "execution_count": 3,
                    "data": {
                        "application/vnd.dataresource+json": {
                            "schema": {
                                "fields": [
                                    {
                                        "name": "GeoId"
                                    },
                                    {
                                        "name": "City"
                                    },
                                    {
                                        "name": "StateName"
                                    },
                                    {
                                        "name": "State"
                                    },
                                    {
                                        "name": "TotPop65PlusSexRatio"
                                    },
                                    {
                                        "name": "TotPopRace"
                                    },
                                    {
                                        "name": "TotPopOneRace"
                                    },
                                    {
                                        "name": "TotPopTwoOrMoreRace"
                                    },
                                    {
                                        "name": "TotPopUnder5"
                                    },
                                    {
                                        "name": "TotPop5to9"
                                    },
                                    {
                                        "name": "TotPop10to14"
                                    },
                                    {
                                        "name": "TotPop15to19"
                                    },
                                    {
                                        "name": "TotPop20to24"
                                    },
                                    {
                                        "name": "TotPop25to34"
                                    },
                                    {
                                        "name": "TotPop35to44"
                                    },
                                    {
                                        "name": "TotPop45to54"
                                    },
                                    {
                                        "name": "TotPop55to59"
                                    },
                                    {
                                        "name": "TotPop60to64"
                                    },
                                    {
                                        "name": "TotPop65to74"
                                    },
                                    {
                                        "name": "TotPop75to84"
                                    },
                                    {
                                        "name": "TotPop85Plus"
                                    },
                                    {
                                        "name": "TotPopMedianAge"
                                    },
                                    {
                                        "name": "CensusClass"
                                    }
                                ]
                            },
                            "data": [
                                {
                                    "0": "0100100",
                                    "1": "Abanda",
                                    "2": "Alabama",
                                    "3": "AL",
                                    "4": "100",
                                    "5": "218",
                                    "6": "218",
                                    "7": "0",
                                    "8": "22",
                                    "9": "18",
                                    "10": "15",
                                    "11": "3",
                                    "12": "0",
                                    "13": "61",
                                    "14": "12",
                                    "15": "11",
                                    "16": "30",
                                    "17": "32",
                                    "18": "14",
                                    "19": "0",
                                    "20": "0",
                                    "21": "34.2",
                                    "22": "unincorporated"
                                },
                                {
                                    "0": "0100124",
                                    "1": "Abbeville",
                                    "2": "Alabama",
                                    "3": "AL",
                                    "4": "72.8",
                                    "5": "2582",
                                    "6": "2582",
                                    "7": "0",
                                    "8": "110",
                                    "9": "47",
                                    "10": "193",
                                    "11": "158",
                                    "12": "185",
                                    "13": "288",
                                    "14": "280",
                                    "15": "290",
                                    "16": "171",
                                    "17": "188",
                                    "18": "296",
                                    "19": "272",
                                    "20": "104",
                                    "21": "46.8",
                                    "22": "city"
                                },
                                {
                                    "0": "0100460",
                                    "1": "Adamsville",
                                    "2": "Alabama",
                                    "3": "AL",
                                    "4": "57.5",
                                    "5": "4374",
                                    "6": "4305",
                                    "7": "69",
                                    "8": "327",
                                    "9": "281",
                                    "10": "288",
                                    "11": "313",
                                    "12": "179",
                                    "13": "494",
                                    "14": "489",
                                    "15": "627",
                                    "16": "270",
                                    "17": "284",
                                    "18": "458",
                                    "19": "292",
                                    "20": "72",
                                    "21": "42.4",
                                    "22": "city"
                                },
                                {
                                    "0": "0100484",
                                    "1": "Addison",
                                    "2": "Alabama",
                                    "3": "AL",
                                    "4": "67",
                                    "5": "641",
                                    "6": "630",
                                    "7": "11",
                                    "8": "30",
                                    "9": "34",
                                    "10": "36",
                                    "11": "18",
                                    "12": "36",
                                    "13": "80",
                                    "14": "53",
                                    "15": "98",
                                    "16": "73",
                                    "17": "36",
                                    "18": "101",
                                    "19": "39",
                                    "20": "7",
                                    "21": "47.7",
                                    "22": "town"
                                }
                            ]
                        },
                        "text/html": "<table><tr><th>GeoId</th><th>City</th><th>StateName</th><th>State</th><th>TotPop65PlusSexRatio</th><th>TotPopRace</th><th>TotPopOneRace</th><th>TotPopTwoOrMoreRace</th><th>TotPopUnder5</th><th>TotPop5to9</th><th>TotPop10to14</th><th>TotPop15to19</th><th>TotPop20to24</th><th>TotPop25to34</th><th>TotPop35to44</th><th>TotPop45to54</th><th>TotPop55to59</th><th>TotPop60to64</th><th>TotPop65to74</th><th>TotPop75to84</th><th>TotPop85Plus</th><th>TotPopMedianAge</th><th>CensusClass</th></tr><tr><td>0100100</td><td>Abanda</td><td>Alabama</td><td>AL</td><td>100</td><td>218</td><td>218</td><td>0</td><td>22</td><td>18</td><td>15</td><td>3</td><td>0</td><td>61</td><td>12</td><td>11</td><td>30</td><td>32</td><td>14</td><td>0</td><td>0</td><td>34.2</td><td>unincorporated</td></tr><tr><td>0100124</td><td>Abbeville</td><td>Alabama</td><td>AL</td><td>72.8</td><td>2582</td><td>2582</td><td>0</td><td>110</td><td>47</td><td>193</td><td>158</td><td>185</td><td>288</td><td>280</td><td>290</td><td>171</td><td>188</td><td>296</td><td>272</td><td>104</td><td>46.8</td><td>city</td></tr><tr><td>0100460</td><td>Adamsville</td><td>Alabama</td><td>AL</td><td>57.5</td><td>4374</td><td>4305</td><td>69</td><td>327</td><td>281</td><td>288</td><td>313</td><td>179</td><td>494</td><td>489</td><td>627</td><td>270</td><td>284</td><td>458</td><td>292</td><td>72</td><td>42.4</td><td>city</td></tr><tr><td>0100484</td><td>Addison</td><td>Alabama</td><td>AL</td><td>67</td><td>641</td><td>630</td><td>11</td><td>30</td><td>34</td><td>36</td><td>18</td><td>36</td><td>80</td><td>53</td><td>98</td><td>73</td><td>36</td><td>101</td><td>39</td><td>7</td><td>47.7</td><td>town</td></tr></table>"
                    },
                    "metadata": {}
                }
            ],
            "execution_count": 3
        },
        {
            "cell_type": "markdown",
            "source": [
                "The data provided by the Census has some serious downfalls. For starters not every place mentioned in the census has a valid fips and not all us cities do either.\n",
                "\n",
                "The GNIS database seems to have been created to offset this, the FIPS database being kept as a legacy.\n",
                "\n",
                "I have been doing my best to correct and extrapolate data classifying place names for example so that they match a standard database.\n",
                "\n",
                "A key point to remember is that the Census uses what are called \"CDP's\". They are not necessarily towns or cities, at times they are private locations, at times they are prisons, most of the time however they are towns.\n",
                "\n",
                "The census also repeats alot of data by statistical group much of which is wasted cells I have pruned these down for my purposes as much as possible to avoid something 200 columns of data half of which is either identical or useless.  Reality is the totals are more important than the demographic, other than age and major race components."
            ],
            "metadata": {
                "azdata_cell_guid": "97f490a7-73d1-47c3-81a8-4cf94a104eab"
            }
        },
        {
            "cell_type": "code",
            "source": [
                "use GEOGRAPHY\r\n",
                "GO\r\n",
                "\r\n",
                "select top 5 * from dbo.FipsKeys"
            ],
            "metadata": {
                "azdata_cell_guid": "aa73cd71-4893-4ee9-bbf8-ff5dd3e3b2b4"
            },
            "outputs": [
                {
                    "output_type": "display_data",
                    "data": {
                        "text/html": "Commands completed successfully."
                    },
                    "metadata": {}
                },
                {
                    "output_type": "display_data",
                    "data": {
                        "text/html": "(5 rows affected)"
                    },
                    "metadata": {}
                },
                {
                    "output_type": "display_data",
                    "data": {
                        "text/html": "Total execution time: 00:00:00.083"
                    },
                    "metadata": {}
                },
                {
                    "output_type": "execute_result",
                    "metadata": {},
                    "execution_count": 1,
                    "data": {
                        "application/vnd.dataresource+json": {
                            "schema": {
                                "fields": [
                                    {
                                        "name": "SummLevel"
                                    },
                                    {
                                        "name": "State"
                                    },
                                    {
                                        "name": "County"
                                    },
                                    {
                                        "name": "CountyDivision"
                                    },
                                    {
                                        "name": "PlaceCode"
                                    },
                                    {
                                        "name": "ConsolidatedCity"
                                    },
                                    {
                                        "name": "AreaName"
                                    },
                                    {
                                        "name": "FipsId"
                                    }
                                ]
                            },
                            "data": [
                                {
                                    "0": "010",
                                    "1": "00",
                                    "2": "000",
                                    "3": "00000",
                                    "4": "00000",
                                    "5": "00000     ",
                                    "6": "United States",
                                    "7": "00000000000000000000"
                                },
                                {
                                    "0": "040",
                                    "1": "01",
                                    "2": "000",
                                    "3": "00000",
                                    "4": "00000",
                                    "5": "00000     ",
                                    "6": "Alabama",
                                    "7": "01000000000000000000"
                                },
                                {
                                    "0": "162",
                                    "1": "01",
                                    "2": "000",
                                    "3": "00000",
                                    "4": "00124",
                                    "5": "00000     ",
                                    "6": "Abbeville city",
                                    "7": "01000000000012400000"
                                },
                                {
                                    "0": "162",
                                    "1": "01",
                                    "2": "000",
                                    "3": "00000",
                                    "4": "00460",
                                    "5": "00000     ",
                                    "6": "Adamsville city",
                                    "7": "01000000000046000000"
                                },
                                {
                                    "0": "162",
                                    "1": "01",
                                    "2": "000",
                                    "3": "00000",
                                    "4": "00484",
                                    "5": "00000     ",
                                    "6": "Addison town",
                                    "7": "01000000000048400000"
                                }
                            ]
                        },
                            "<table>",
                            "<tr><th>SummLevel</th><th>State</th><th>County</th><th>CountyDivision</th><th>PlaceCode</th><th>ConsolidatedCity</th><th>AreaName</th><th>FipsId</th></tr>",
                            "<tr><td>010</td><td>00</td><td>000</td><td>00000</td><td>00000</td><td>00000     </td><td>United States</td><td>00000000000000000000</td></tr>",
                            "<tr><td>040</td><td>01</td><td>000</td><td>00000</td><td>00000</td><td>00000     </td><td>Alabama</td><td>01000000000000000000</td></tr>",
                            "<tr><td>162</td><td>01</td><td>000</td><td>00000</td><td>00124</td><td>00000     </td><td>Abbeville city</td><td>01000000000012400000</td></tr>",
                            "<tr><td>162</td><td>01</td><td>000</td><td>00000</td><td>00460</td><td>00000     </td><td>Adamsville city</td><td>01000000000046000000</td></tr>",
                            "<tr><td>162</td><td>01</td><td>000</td><td>00000</td><td>00484</td><td>00000     </td><td>Addison town</td><td>01000000000048400000</td></tr>",
                            "</table>"
                        ]
                    "metadata": {}
                }
            ],
            "execution_count": 1
        },
        {
            "cell_type": "markdown",
            "source": [
                "To make things easier I combined the fips components into their standard key form, which is a static length string that contains all components of the data.\n",
                "\n",
                "This is more for possible convenience in the future referencing or integrating other government provided data.\n",
                "\n",
                "A much more specific database that many of the sources link against seems to be the GNIS database, which can be found under GNISCodes."
            ],
            "metadata": {
                "azdata_cell_guid": "947b7237-7f1f-4f41-8ae4-23bed5043720"
            }
        },
        {
            "cell_type": "code",
            "source": [
                "use [Geography];\r\n",
                "GO\r\n",
                "\r\n",
                "select top 5 * from dbo.GNISCodes"
            ],
            "metadata": {
                "azdata_cell_guid": "c6a786f5-cc95-4d5e-8866-559ab29e033f"
            },
            "outputs": [
                {
                    "output_type": "display_data",
                    "data": {
                        "text/html": "Commands completed successfully."
                    },
                    "metadata": {}
                },
                {
                    "output_type": "display_data",
                    "data": {
                        "text/html": "(5 rows affected)"
                    },
                    "metadata": {}
                },
                {
                    "output_type": "display_data",
                    "data": {
                        "text/html": "Total execution time: 00:00:00.052"
                    },
                    "metadata": {}
                },
                {
                    "output_type": "execute_result",
                    "metadata": {},
                    "execution_count": 3,
                    "data": {
                        "application/vnd.dataresource+json": {
                            "schema": {
                                "fields": [
                                    {
                                        "name": "FEATURE_ID"
                                    },
                                    {
                                        "name": "FEATURE_NAME"
                                    },
                                    {
                                        "name": "FEATURE_CLASS"
                                    },
                                    {
                                        "name": "STATE_ALPHA"
                                    },
                                    {
                                        "name": "STATE_NUMERIC"
                                    },
                                    {
                                        "name": "COUNTY_NAME"
                                    },
                                    {
                                        "name": "COUNTY_NUMERIC"
                                    },
                                    {
                                        "name": "PRIMARY_LAT_DMS"
                                    },
                                    {
                                        "name": "PRIM_LONG_DMS"
                                    },
                                    {
                                        "name": "PRIM_LAT_DEC"
                                    },
                                    {
                                        "name": "PRIM_LONG_DEC"
                                    },
                                    {
                                        "name": "SOURCE_LAT_DMS"
                                    },
                                    {
                                        "name": "SOURCE_LONG_DMS"
                                    },
                                    {
                                        "name": "SOURCE_LAT_DEC"
                                    },
                                    {
                                        "name": "SOURCE_LONG_DEC"
                                    },
                                    {
                                        "name": "ELEV_IN_M"
                                    },
                                    {
                                        "name": "ELEV_IN_FT"
                                    },
                                    {
                                        "name": "MAP_NAME"
                                    },
                                    {
                                        "name": "DATE_CREATED"
                                    },
                                    {
                                        "name": "DATE_EDITED"
                                    }
                                ]
                            },
                            "data": [
                                {
                                    "0": "399",
                                    "1": "Agua Sal Creek",
                                    "2": "Stream",
                                    "3": "AZ",
                                    "4": "04",
                                    "5": "Apache",
                                    "6": "001",
                                    "7": "362740N",
                                    "8": "1092842W",
                                    "9": "36.4611122",
                                    "10": "-109.4784394",
                                    "11": "362053N",
                                    "12": "1090915W",
                                    "13": "36.3480582",
                                    "14": "-109.1542662",
                                    "15": "1645",
                                    "16": "5397",
                                    "17": "Fire Dance Mesa",
                                    "18": "1980-02-08",
                                    "19": "NULL"
                                },
                                {
                                    "0": "400",
                                    "1": "Agua Sal Wash",
                                    "2": "Valley",
                                    "3": "AZ",
                                    "4": "04",
                                    "5": "Apache",
                                    "6": "001",
                                    "7": "363246N",
                                    "8": "1093103W",
                                    "9": "36.546112",
                                    "10": "-109.5176069",
                                    "11": "362740N",
                                    "12": "1092842W",
                                    "13": "36.4611122",
                                    "14": "-109.4784394",
                                    "15": "1597",
                                    "16": "5239",
                                    "17": "Little Round Rock",
                                    "18": "1980-02-08",
                                    "19": "NULL"
                                },
                                {
                                    "0": "401",
                                    "1": "Aguaje Draw",
                                    "2": "Valley",
                                    "3": "AZ",
                                    "4": "04",
                                    "5": "Apache",
                                    "6": "001",
                                    "7": "343417N",
                                    "8": "1091313W",
                                    "9": "34.5714281",
                                    "10": "-109.2203696",
                                    "11": "344308N",
                                    "12": "1085826W",
                                    "13": "34.7188",
                                    "14": "-108.9739",
                                    "15": "1750",
                                    "16": "5741",
                                    "17": "Kearn Lake",
                                    "18": "1980-02-08",
                                    "19": "2008-01-14"
                                },
                                {
                                    "0": "402",
                                    "1": "Arlington State Wildlife Area",
                                    "2": "Park",
                                    "3": "AZ",
                                    "4": "04",
                                    "5": "Maricopa",
                                    "6": "013",
                                    "7": "331455N",
                                    "8": "1124625W",
                                    "9": "33.2486547",
                                    "10": "-112.7735045",
                                    "11": "NULL",
                                    "12": "NULL",
                                    "13": "NULL",
                                    "14": "NULL",
                                    "15": "231",
                                    "16": "758",
                                    "17": "Spring Mountain",
                                    "18": "1980-02-08",
                                    "19": "NULL"
                                },
                                {
                                    "0": "403",
                                    "1": "Bar X Wash",
                                    "2": "Stream",
                                    "3": "AZ",
                                    "4": "04",
                                    "5": "Graham",
                                    "6": "009",
                                    "7": "322815N",
                                    "8": "1095610W",
                                    "9": "32.4709038",
                                    "10": "-109.9361853",
                                    "11": "323048N",
                                    "12": "1095233W",
                                    "13": "32.5134024",
                                    "14": "-109.8759075",
                                    "15": "1339",
                                    "16": "4393",
                                    "17": "West of Greasewood Mountain",
                                    "18": "1980-02-08",
                                    "19": "NULL"
                                }
                            ]
                        },
                            "<table>",
                            "<tr><th>FEATURE_ID</th><th>FEATURE_NAME</th><th>FEATURE_CLASS</th><th>STATE_ALPHA</th><th>STATE_NUMERIC</th><th>COUNTY_NAME</th><th>COUNTY_NUMERIC</th><th>PRIMARY_LAT_DMS</th><th>PRIM_LONG_DMS</th><th>PRIM_LAT_DEC</th><th>PRIM_LONG_DEC</th><th>SOURCE_LAT_DMS</th><th>SOURCE_LONG_DMS</th><th>SOURCE_LAT_DEC</th><th>SOURCE_LONG_DEC</th><th>ELEV_IN_M</th><th>ELEV_IN_FT</th><th>MAP_NAME</th><th>DATE_CREATED</th><th>DATE_EDITED</th></tr>",
                            "<tr><td>399</td><td>Agua Sal Creek</td><td>Stream</td><td>AZ</td><td>04</td><td>Apache</td><td>001</td><td>362740N</td><td>1092842W</td><td>36.4611122</td><td>-109.4784394</td><td>362053N</td><td>1090915W</td><td>36.3480582</td><td>-109.1542662</td><td>1645</td><td>5397</td><td>Fire Dance Mesa</td><td>1980-02-08</td><td>NULL</td></tr>",
                            "<tr><td>400</td><td>Agua Sal Wash</td><td>Valley</td><td>AZ</td><td>04</td><td>Apache</td><td>001</td><td>363246N</td><td>1093103W</td><td>36.546112</td><td>-109.5176069</td><td>362740N</td><td>1092842W</td><td>36.4611122</td><td>-109.4784394</td><td>1597</td><td>5239</td><td>Little Round Rock</td><td>1980-02-08</td><td>NULL</td></tr>",
                            "<tr><td>401</td><td>Aguaje Draw</td><td>Valley</td><td>AZ</td><td>04</td><td>Apache</td><td>001</td><td>343417N</td><td>1091313W</td><td>34.5714281</td><td>-109.2203696</td><td>344308N</td><td>1085826W</td><td>34.7188</td><td>-108.9739</td><td>1750</td><td>5741</td><td>Kearn Lake</td><td>1980-02-08</td><td>2008-01-14</td></tr>",
                            "<tr><td>402</td><td>Arlington State Wildlife Area</td><td>Park</td><td>AZ</td><td>04</td><td>Maricopa</td><td>013</td><td>331455N</td><td>1124625W</td><td>33.2486547</td><td>-112.7735045</td><td>NULL</td><td>NULL</td><td>NULL</td><td>NULL</td><td>231</td><td>758</td><td>Spring Mountain</td><td>1980-02-08</td><td>NULL</td></tr>",
                            "<tr><td>403</td><td>Bar X Wash</td><td>Stream</td><td>AZ</td><td>04</td><td>Graham</td><td>009</td><td>322815N</td><td>1095610W</td><td>32.4709038</td><td>-109.9361853</td><td>323048N</td><td>1095233W</td><td>32.5134024</td><td>-109.8759075</td><td>1339</td><td>4393</td><td>West of Greasewood Mountain</td><td>1980-02-08</td><td>NULL</td></tr>",
                            "</table>"
                        ]
                    "metadata": {}
                }
            ],
            "execution_count": 3
        },
        {
            "cell_type": "markdown",
            "source": [
                "The benefit of this dataset is that it covers ALOT OF FEATURES, not just cities, as can be seen above, and the boundary categories are nicely laid out as well.  Including county and state name.\n",
                "\n",
                "The two can be linked together rather easily as indicated below.\n",
                "\n",
                "It is for this reason that I am defaulting the primary key of the places table to the GNIS table. This has been an annoying side of working with this data.\n",
                "\n",
                "The data itself at times does not contain a unique identifier that can be used to isolate a specific value.  So at times I have to create one. This was luckily not one of those times. The GNISCode is always filled in, and always unique."
            ],
            "metadata": {
                "azdata_cell_guid": "75be0700-3ef6-4e54-9f8d-5097ac301d78"
            }
        },
        {
            "cell_type": "code",
            "source": [
                "select top 5 * from dbo.Places p\r\n",
                "inner join dbo.GNISCodes g\r\n",
                "on p.GNISCode = g.feature_id"
            ],
            "metadata": {
                "azdata_cell_guid": "7f539ad6-47d0-4ccc-bf1f-237a24475e68"
            },
            "outputs": [
                {
                    "output_type": "display_data",
                    "data": {
                        "text/html": "(5 rows affected)"
                    },
                    "metadata": {}
                },
                {
                    "output_type": "display_data",
                    "data": {
                        "text/html": "Total execution time: 00:00:16.911"
                    },
                    "metadata": {}
                },
                {
                    "output_type": "execute_result",
                    "metadata": {},
                    "execution_count": 5,
                    "data": {
                        "application/vnd.dataresource+json": {
                            "schema": {
                                "fields": [
                                    {
                                        "name": "FipsId"
                                    },
                                    {
                                        "name": "GeoId"
                                    },
                                    {
                                        "name": "GNISCode"
                                    },
                                    {
                                        "name": "Name"
                                    },
                                    {
                                        "name": "LegalName"
                                    },
                                    {
                                        "name": "LSADId"
                                    },
                                    {
                                        "name": "FipsClass"
                                    },
                                    {
                                        "name": "MetroOrMicroIndicator"
                                    },
                                    {
                                        "name": "CensusPlace"
                                    },
                                    {
                                        "name": "IncorporatedPlace"
                                    },
                                    {
                                        "name": "AreaLand"
                                    },
                                    {
                                        "name": "AreaWater"
                                    },
                                    {
                                        "name": "Latitude"
                                    },
                                    {
                                        "name": "Longitude"
                                    },
                                    {
                                        "name": "MinLatitude"
                                    },
                                    {
                                        "name": "MinLongitude"
                                    },
                                    {
                                        "name": "MaxLatitude"
                                    },
                                    {
                                        "name": "MaxLongitude"
                                    },
                                    {
                                        "name": "Shape"
                                    },
                                    {
                                        "name": "FEATURE_ID"
                                    },
                                    {
                                        "name": "FEATURE_NAME"
                                    },
                                    {
                                        "name": "FEATURE_CLASS"
                                    },
                                    {
                                        "name": "STATE_ALPHA"
                                    },
                                    {
                                        "name": "STATE_NUMERIC"
                                    },
                                    {
                                        "name": "COUNTY_NAME"
                                    },
                                    {
                                        "name": "COUNTY_NUMERIC"
                                    },
                                    {
                                        "name": "PRIMARY_LAT_DMS"
                                    },
                                    {
                                        "name": "PRIM_LONG_DMS"
                                    },
                                    {
                                        "name": "PRIM_LAT_DEC"
                                    },
                                    {
                                        "name": "PRIM_LONG_DEC"
                                    },
                                    {
                                        "name": "SOURCE_LAT_DMS"
                                    },
                                    {
                                        "name": "SOURCE_LONG_DMS"
                                    },
                                    {
                                        "name": "SOURCE_LAT_DEC"
                                    },
                                    {
                                        "name": "SOURCE_LONG_DEC"
                                    },
                                    {
                                        "name": "ELEV_IN_M"
                                    },
                                    {
                                        "name": "ELEV_IN_FT"
                                    },
                                    {
                                        "name": "MAP_NAME"
                                    },
                                    {
                                        "name": "DATE_CREATED"
                                    },
                                    {
                                        "name": "DATE_EDITED"
                                    }
                                ]
                            },
                            "data": [
                                {
                                    "0": "51000000006273800000",
                                    "1": "5162738",
                                    "2": "02584902",
                                    "3": "Piney Mountain",
                                    "4": "Piney Mountain CDP",
                                    "5": "57",
                                    "6": "U1",
                                    "7": "N",
                                    "8": "0",
                                    "9": "1",
                                    "10": "2972432",
                                    "11": "66396",
                                    "12": "38.162134",
                                    "13": "-78.4110714",
                                    "14": "-78.427759",
                                    "15": "38.146045",
                                    "16": "-78.40375",
                                    "17": "38.171347999999995",
                                    "18": "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
                                    "19": "2584902",
                                    "20": "Piney Mountain Census Designated Place",
                                    "21": "Census",
                                    "22": "VA",
                                    "23": "51",
                                    "24": "Albemarle",
                                    "25": "003",
                                    "26": "380933N",
                                    "27": "0782456W",
                                    "28": "38.1591523",
                                    "29": "-78.4155472",
                                    "30": "NULL",
                                    "31": "NULL",
                                    "32": "NULL",
                                    "33": "NULL",
                                    "34": "126",
                                    "35": "413",
                                    "36": "Earlysville",
                                    "37": "2010-03-31",
                                    "38": "2020-05-21"
                                },
                                {
                                    "0": "51000000007764800000",
                                    "1": "5177648",
                                    "2": "02584928",
                                    "3": "Tasley",
                                    "4": "Tasley CDP",
                                    "5": "57",
                                    "6": "U1",
                                    "7": "N",
                                    "8": "0",
                                    "9": "1",
                                    "10": "2763905",
                                    "11": "0",
                                    "12": "37.7124498",
                                    "13": "-75.6970326",
                                    "14": "-75.707514",
                                    "15": "37.699737999999996",
                                    "16": "-75.685504",
                                    "17": "37.725103",
                                    "18": "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
                                    "19": "2584928",
                                    "20": "Tasley Census Designated Place",
                                    "21": "Census",
                                    "22": "VA",
                                    "23": "51",
                                    "24": "Accomack",
                                    "25": "001",
                                    "26": "374245N",
                                    "27": "0754149W",
                                    "28": "37.7124502",
                                    "29": "-75.6970323",
                                    "30": "NULL",
                                    "31": "NULL",
                                    "32": "NULL",
                                    "33": "NULL",
                                    "34": "12",
                                    "35": "39",
                                    "36": "Accomac",
                                    "37": "2010-03-31",
                                    "38": "2020-05-21"
                                },
                                {
                                    "0": "51000000008356800000",
                                    "1": "5183568",
                                    "2": "02584935",
                                    "3": "Wattsville",
                                    "4": "Wattsville CDP",
                                    "5": "57",
                                    "6": "U1",
                                    "7": "N",
                                    "8": "0",
                                    "9": "1",
                                    "10": "10456771",
                                    "11": "259162",
                                    "12": "37.9318636",
                                    "13": "-75.4972953",
                                    "14": "-75.526015",
                                    "15": "37.907892",
                                    "16": "-75.46655299999999",
                                    "17": "37.956553",
                                    "18": "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
                                    "19": "2584935",
                                    "20": "Wattsville Census Designated Place",
                                    "21": "Census",
                                    "22": "VA",
                                    "23": "51",
                                    "24": "Accomack",
                                    "25": "001",
                                    "26": "375550N",
                                    "27": "0752943W",
                                    "28": "37.9304601",
                                    "29": "-75.4953344",
                                    "30": "NULL",
                                    "31": "NULL",
                                    "32": "NULL",
                                    "33": "NULL",
                                    "34": "5",
                                    "35": "16",
                                    "36": "Chincoteague West",
                                    "37": "2010-03-31",
                                    "38": "2020-05-21"
                                },
                                {
                                    "0": "53000000000573500000",
                                    "1": "5305735",
                                    "2": "02584946",
                                    "3": "Bethel",
                                    "4": "Bethel CDP",
                                    "5": "57",
                                    "6": "U1",
                                    "7": "N",
                                    "8": "0",
                                    "9": "1",
                                    "10": "8187677",
                                    "11": "0",
                                    "12": "47.4873996",
                                    "13": "-122.6175168",
                                    "14": "-122.640304",
                                    "15": "47.468593999999996",
                                    "16": "-122.59978699999999",
                                    "17": "47.504895999999995",
                                    "18": "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
                                    "19": "2584946",
                                    "20": "Bethel Census Designated Place",
                                    "21": "Census",
                                    "22": "WA",
                                    "23": "53",
                                    "24": "Kitsap",
                                    "25": "035",
                                    "26": "472915N",
                                    "27": "1223703W",
                                    "28": "47.4874012",
                                    "29": "-122.617518",
                                    "30": "NULL",
                                    "31": "NULL",
                                    "32": "NULL",
                                    "33": "NULL",
                                    "34": "97",
                                    "35": "318",
                                    "36": "Olalla",
                                    "37": "2010-03-31",
                                    "38": "2020-05-21"
                                },
                                {
                                    "0": "53000000000888500000",
                                    "1": "5308885",
                                    "2": "02584954",
                                    "3": "Burley",
                                    "4": "Burley CDP",
                                    "5": "57",
                                    "6": "U1",
                                    "7": "N",
                                    "8": "0",
                                    "9": "1",
                                    "10": "12306390",
                                    "11": "485762",
                                    "12": "47.4159568",
                                    "13": "-122.6447052",
                                    "14": "-122.66893400000001",
                                    "15": "47.403090999999996",
                                    "16": "-122.609803",
                                    "17": "47.432489",
                                    "18": "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
                                    "19": "2584954",
                                    "20": "Burley Census Designated Place",
                                    "21": "Census",
                                    "22": "WA",
                                    "23": "53",
                                    "24": "Kitsap",
                                    "25": "035",
                                    "26": "472500N",
                                    "27": "1223816W",
                                    "28": "47.4166227",
                                    "29": "-122.6377396",
                                    "30": "NULL",
                                    "31": "NULL",
                                    "32": "NULL",
                                    "33": "NULL",
                                    "34": "28",
                                    "35": "92",
                                    "36": "Burley",
                                    "37": "2010-03-31",
                                    "38": "2020-05-21"
                                }
                            ]
                        },
                        "text/html": [
                            "<table>",
                            "<tr><th>FipsId</th><th>GeoId</th><th>GNISCode</th><th>Name</th><th>LegalName</th><th>LSADId</th><th>FipsClass</th><th>MetroOrMicroIndicator</th><th>CensusPlace</th><th>IncorporatedPlace</th><th>AreaLand</th><th>AreaWater</th><th>Latitude</th><th>Longitude</th><th>MinLatitude</th><th>MinLongitude</th><th>MaxLatitude</th><th>MaxLongitude</th><th>Shape</th><th>FEATURE_ID</th><th>FEATURE_NAME</th><th>FEATURE_CLASS</th><th>STATE_ALPHA</th><th>STATE_NUMERIC</th><th>COUNTY_NAME</th><th>COUNTY_NUMERIC</th><th>PRIMARY_LAT_DMS</th><th>PRIM_LONG_DMS</th><th>PRIM_LAT_DEC</th><th>PRIM_LONG_DEC</th><th>SOURCE_LAT_DMS</th><th>SOURCE_LONG_DMS</th><th>SOURCE_LAT_DEC</th><th>SOURCE_LONG_DEC</th><th>ELEV_IN_M</th><th>ELEV_IN_FT</th><th>MAP_NAME</th><th>DATE_CREATED</th><th>DATE_EDITED</th></tr>",
2C0FC1873D712DA424007EBFF1CE6EC52C0273108AC1CDA42405E807D74EAEC52C05F5FEB5223DA4240755AB741EDEC52C033FCA71B28DA4240D9EBDD1FEFEC52C08F17D2E121DA42407CB60E0EF6EC52C0E1B88C9B1ADA424072A774B0FEEC52C026AC8DB113DA424002B9C49107ED52C00FB8AE9811DA42408A0629780AED52C0D064FF3C0DDA4240D4B9A29410ED52C0AF5E454607DA42405EF415A419ED52C0350D8AE601DA42404E0E9F7422ED52C01F813FFCFCD94240965984622BED52C0C8D11C59F9D94240A5C0029832ED52C01D9430D3F6D94240C009850838ED52C0728A8EE4F2D94240560C570740ED52C06878B306EFD9424094DDCCE847ED52C001000000010000000001000000FFFFFFFF0000000003</td><td>2584928</td><td>Tasley Census Designated Place</td><td>Census</td><td>VA</td><td>51</td><td>Accomack</td><td>001</td><td>374245N</td><td>0754149W</td><td>37.7124502</td><td>-75.6970323</td><td>NULL</td><td>NULL</td><td>NULL</td><td>NULL</td><td>12</td><td>39</td><td>Accomac</td><td>2010-03-31</td><td>2020-05-21</td></tr>",
DBC4740AC3AAB05F6A75EC09A44BDE0D3BC474075779D0DF9A75EC0BEBC00FBE8BC47408B51D7DAFBA75EC0994A3FE1ECBC47405BB39597FCA75EC07A54FCDF11BD4740DBC1887D02A85EC09622F94A20BD4740F758FAD005A85EC09EB5DB2E34BD4740015130630AA85EC05D177E703EBD4740944C4EED0CA85EC045D8F0F44ABD4740D4B9A29410A85EC0984F560C57BD4740A2B3CC2214A85EC0A56B26DF6CBD47404B3B35971BA85EC001A4367172BD4740988A8D791DA85EC02733DE567ABD47403143E38920A85EC0C426327381BD474077A1B94E23A85EC044A33B889DBD474036E9B6442EA85EC04EEFE2FDB8BD4740A7AD11C138A85EC01348895DDBBD4740EE42739D46A85EC082C7B7770DBE474090F63FC05AA85EC04FAC53E57BBE47403E78EDD286A85EC0D21BEE23B7BE47401ADCD6169EA85EC046EA3D95D3BE47402C64AE0CAAA85EC0C9E53FA4DFBE4740FFE6C589AFA85EC0B265F9BA0CBF4740ACE0B721C6A85EC078EC67B114BF474057EA5910CAA85EC0698A00A777BF4740DFDFA0BDFAA85EC07BF5F1D077BF4740A0C03BF9F4A85EC001000000010000000001000000FFFFFFFF0000000003</td><td>2584946</td><td>Bethel Census Designated Place</td><td>Census</td><td>WA</td><td>53</td><td>Kitsap</td><td>035</td><td>472915N</td><td>1223703W</td><td>47.4874012</td><td>-122.617518</td><td>NULL</td><td>NULL</td><td>NULL</td><td>NULL</td><td>97</td><td>318</td><td>Olalla</td><td>2010-03-31</td><td>2020-05-21</td></tr>",
                            "</table>"
                        ]
                    "metadata": {}
                }
            ],
            "execution_count": 5
        },
        {
            "cell_type": "markdown",
            "source": [
                "You will note that there is also a shapefile boundary included.\n",
                "\n",
                "This is the result of the loader found in the ImportDBFFiles project of this solution.\n",
                "\n",
                "  \n",
                "\n",
                "I believe that this shape is specific to CDP boundaries, mostly in the case of towns it seems to match up with what google might give one, and given they use the same databases that would make sense.\n",
                "\n",
                "  \n",
                "\n",
                "There is another datasource I have not yet incorporated that I would very much like to compare, that being the cartographic boundary files also available from the census bureau.\n",
                "\n",
                "  \n",
                "\n",
                "Each table with a Shape field will be of type geography, and therefore be an instance type. The data is obviously unreadable above however can be retrieved into WKT (well known text) via a call to .ToString() which, as with all of methods defined by geography IS CASE SENSITIVE unlike the rest of SQL."
            ],
            "metadata": {
                "azdata_cell_guid": "016c605e-92b1-4cd6-853b-d53f57a0398e"
            }
        },
        {
            "cell_type": "code",
            "source": [
                "select * from dbo.Places where GNISCode='02584902'\r\n",
                "GO\r\n",
                "select shape.ToString() from dbo.Places where GNISCode='02584902'\r\n",
                "GO"
            ],
            "metadata": {
                "azdata_cell_guid": "844eab4b-ba9d-4ce2-9e0a-21bdbb1593ec"
            },
            "outputs": [
                {
                    "output_type": "display_data",
                    "data": {
                        "text/html": "(1 row affected)"
                    },
                    "metadata": {}
                },
                {
                    "output_type": "display_data",
                    "data": {
                        "text/html": "(1 row affected)"
                    },
                    "metadata": {}
                },
                {
                    "output_type": "display_data",
                    "data": {
                        "text/html": "Total execution time: 00:00:01.392"
                    },
                    "metadata": {}
                },
                {
                    "output_type": "execute_result",
                    "metadata": {},
                    "execution_count": 6,
                    "data": {
                        "application/vnd.dataresource+json": {
                            "schema": {
                                "fields": [
                                    {
                                        "name": "FipsId"
                                    },
                                    {
                                        "name": "GeoId"
                                    },
                                    {
                                        "name": "GNISCode"
                                    },
                                    {
                                        "name": "Name"
                                    },
                                    {
                                        "name": "LegalName"
                                    },
                                    {
                                        "name": "LSADId"
                                    },
                                    {
                                        "name": "FipsClass"
                                    },
                                    {
                                        "name": "MetroOrMicroIndicator"
                                    },
                                    {
                                        "name": "CensusPlace"
                                    },
                                    {
                                        "name": "IncorporatedPlace"
                                    },
                                    {
                                        "name": "AreaLand"
                                    },
                                    {
                                        "name": "AreaWater"
                                    },
                                    {
                                        "name": "Latitude"
                                    },
                                    {
                                        "name": "Longitude"
                                    },
                                    {
                                        "name": "MinLatitude"
                                    },
                                    {
                                        "name": "MinLongitude"
                                    },
                                    {
                                        "name": "MaxLatitude"
                                    },
                                    {
                                        "name": "MaxLongitude"
                                    },
                                    {
                                        "name": "Shape"
                                    }
                                ]
                            },
                            "data": [
                                {
                                    "0": "51000000006273800000",
                                    "1": "5162738",
                                    "2": "02584902",
                                    "3": "Piney Mountain",
                                    "4": "Piney Mountain CDP",
                                    "5": "57",
                                    "6": "U1",
                                    "7": "N",
                                    "8": "0",
                                    "9": "1",
                                    "10": "2972432",
                                    "11": "66396",
                                    "12": "38.162134",
                                    "13": "-78.4110714",
                                    "14": "-78.427759",
                                    "15": "38.146045",
                                    "16": "-78.40375",
                                    "17": "38.171347999999995",
                                    "18": "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
                                }
                            ]
                        },
                        "text/html": [
                            "<table>",
                            "<tr><th>FipsId</th><th>GeoId</th><th>GNISCode</th><th>Name</th><th>LegalName</th><th>LSADId</th><th>FipsClass</th><th>MetroOrMicroIndicator</th><th>CensusPlace</th><th>IncorporatedPlace</th><th>AreaLand</th><th>AreaWater</th><th>Latitude</th><th>Longitude</th><th>MinLatitude</th><th>MinLongitude</th><th>MaxLatitude</th><th>MaxLongitude</th><th>Shape</th></tr>",
                            "</table>"
                        ]
                    "metadata": {}
                },
                {
                    "output_type": "execute_result",
                    "metadata": {},
                    "execution_count": 6,
                    "data": {
                        "application/vnd.dataresource+json": {
                            "schema": {
                                "fields": [
                                    {
                                        "name": "(No column name)"
                                    }
                                ]
                            },
                            "data": [
                                {
                                    "0": "POLYGON ((-78.427711 38.157309, -78.427664 38.157349, -78.427176 38.157776, -78.42688 38.158977, -78.426676 38.159265, -78.426568 38.159322, -78.426419 38.159554, -78.425657 38.159989, -78.425475 38.160246, -78.425434 38.160276, -78.425352 38.16036, -78.425223 38.160458, -78.424936 38.160646, -78.42469 38.161083, -78.424458 38.161848, -78.424316 38.162045, -78.423906 38.162385, -78.423759 38.1628, -78.423906 38.162966, -78.424317 38.163207, -78.424672 38.163353, -78.424643 38.163388, -78.424621 38.163413, -78.424428 38.16363, -78.424256 38.163852, -78.423827 38.164466, -78.423793 38.164507, -78.423724 38.16457, -78.42364 38.164623, -78.423385 38.164747, -78.423127 38.164852, -78.422598 38.164898, -78.422475 38.164893, -78.421989 38.164822, -78.421898 38.164821, -78.421747 38.16483, -78.421434 38.164884, -78.421268 38.164924, -78.421109 38.164978, -78.420989 38.165028, -78.4209 38.165083, -78.420564 38.165356, -78.420486 38.165433, -78.420424 38.165515, -78.420385 38.165586, -78.420112 38.166351, -78.420032 38.166647, -78.419993 38.166819, -78.419932 38.167052, -78.419872 38.167222, -78.419749 38.167475, -78.41964 38.16764, -78.419484 38.167843, -78.419375 38.167961, -78.419276 38.168046, -78.419169 38.168123, -78.418919 38.168265, -78.418684 38.168383, -78.417995 38.16868, -78.417157 38.169022, -78.416902 38.169115, -78.416764 38.169161, -78.416727 38.169174, -78.41664 38.1692, -78.41623 38.169305, -78.415908 38.169372, -78.415603 38.169418, -78.414782 38.169485, -78.414439 38.169514, -78.41434 38.169527, -78.414237 38.169546, -78.414137 38.169574, -78.414056 38.169604, -78.413906 38.169673, -78.413769 38.169758, -78.413619 38.169872, -78.41349 38.16999, -78.413415 38.170072, -78.41335 38.170158, -78.413068 38.170619, -78.412921 38.17079, -78.412801 38.170896, -78.412709 38.170956, -78.412539 38.17105, -78.412417 38.17111, -78.412188 38.171201, -78.411975 38.171279, -78.411866 38.17131, -78.411726 38.171336, -78.411553 38.171348, -78.411408 38.171342, -78.411268 38.171323, -78.411129 38.17129, -78.410918 38.17123, -78.41066 38.171142, -78.410306 38.171, -78.410064 38.170881, -78.410521 38.170164, -78.411662 38.168371, -78.411781 38.168185, -78.41231 38.167345, -78.412771 38.16663, -78.413059 38.166178, -78.412473 38.165798, -78.412104 38.165559, -78.407695 38.166276, -78.406545 38.165667, -78.406243 38.165504, -78.403995 38.164454, -78.40375 38.164336, -78.403795 38.163902, -78.404049 38.159912, -78.40383 38.159423, -78.403888 38.159256, -78.40398 38.159127, -78.404064 38.159028, -78.404196 38.158923, -78.404342 38.158841, -78.404474 38.158775, -78.404613 38.158677, -78.404753 38.158561, -78.404926 38.158435, -78.405045 38.158364, -78.40542 38.158188, -78.405559 38.1581, -78.405935 38.157897, -78.405957 38.157892, -78.405997 38.157863999999996, -78.406102 38.157809, -78.406241 38.157727, -78.406533 38.157519, -78.406721 38.157403, -78.406756 38.157376, -78.406804 38.157359, -78.406839 38.157338, -78.407256 38.157025, -78.407347 38.156915, -78.407431 38.1568, -78.407542 38.156602, -78.407646 38.156432, -78.407771 38.156333, -78.407876 38.156273, -78.408043 38.156201, -78.408342 38.156113, -78.408383 38.156086, -78.408404 38.155916, -78.40846 38.155746, -78.408495 38.155696, -78.408662 38.155565, -78.408829 38.155482, -78.408954 38.155427, -78.409176 38.155356, -78.409292 38.15533, -78.409309 38.155318, -78.409316 38.155296, -78.40926 38.15523, -78.40919 38.155164, -78.409302 38.155087, -78.40951 38.154977, -78.409663 38.155098, -78.409684 38.155109, -78.409703 38.155099, -78.409928 38.154889, -78.410053 38.154719, -78.410129 38.15456, -78.410171 38.154483, -78.410296 38.154209, -78.410345 38.154055, -78.410359 38.153879, -78.41038 38.153835, -78.410415 38.153797, -78.41045 38.153775, -78.410498 38.153731, -78.410512 38.153693, -78.41054 38.153561, -78.410589 38.153286, -78.410658 38.153149, -78.410693 38.153105, -78.410721 38.153083, -78.410818 38.153045, -78.410923 38.153023, -78.410957 38.152996, -78.410985 38.152935, -78.411006 38.152842, -78.411076 38.152639, -78.411145 38.152573, -78.411201 38.152529, -78.411236 38.152496, -78.411333 38.15243, -78.411375 38.152397, -78.411639 38.152287, -78.411723 38.152227, -78.411792 38.152128, -78.411897 38.151931, -78.411994 38.151837, -78.412064 38.151782, -78.412126 38.151744, -78.41221 38.151684, -78.412258 38.151618, -78.412363 38.151563, -78.412425 38.151552, -78.412592 38.151535, -78.412675 38.151541, -78.412849 38.15159, -78.413009 38.151618, -78.413051 38.151612, -78.413086 38.151601, -78.413113 38.151574, -78.413141 38.151519, -78.413155 38.151409, -78.413197 38.151272, -78.413232 38.151195, -78.413287 38.151113, -78.413301 38.150997, -78.413288 38.150893, -78.41326 38.150805, -78.41319 38.150641, -78.413163 38.150432, -78.413183 38.150295, -78.413225 38.150108, -78.41326 38.149998, -78.413288 38.149861, -78.413378 38.14957, -78.413392 38.149471, -78.413372 38.149306, -78.413351 38.149241, -78.413309 38.149142, -78.413246 38.149037, -78.413191 38.148966, -78.413163 38.148955, -78.413114 38.148949, -78.412996 38.148949, -78.412454 38.149043, -78.412409 38.148937, -78.412364 38.148812, -78.412329 38.148653, -78.412266 38.148323, -78.412239 38.148005, -78.412253 38.147796, -78.412288 38.14767, -78.412329 38.147549, -78.41227 38.147483, -78.412514 38.147446, -78.413535 38.147485, -78.414328 38.14731, -78.415655 38.147248, -78.416476 38.147149, -78.417971 38.146785, -78.419083 38.146256, -78.419686 38.146089, -78.419884 38.146045, -78.420509 38.146172, -78.420801 38.146324, -78.42094 38.146525, -78.420853 38.147856, -78.421116 38.148511, -78.42121 38.149287, -78.421151 38.149533, -78.420508 38.150057, -78.420207 38.150431, -78.420072 38.15056, -78.419994 38.150636, -78.419688 38.150798, -78.418972 38.151178, -78.418684 38.151265, -78.418567 38.151301, -78.417879 38.151237, -78.416439 38.151573, -78.415796 38.151516, -78.415284 38.151696, -78.415001 38.152672, -78.414919 38.153204, -78.414979 38.15354, -78.415211 38.153936, -78.415356 38.154502, -78.41554 38.15471, -78.416259 38.155032, -78.416635 38.155094, -78.416836 38.154971, -78.416859 38.154899, -78.41695 38.15462, -78.417017 38.154416, -78.417167 38.154184, -78.417953 38.153402, -78.418092 38.153265, -78.418126 38.153125, -78.418296 38.153004, -78.41833 38.152864, -78.418438 38.152807, -78.419136 38.151855, -78.419405 38.151712, -78.420028 38.151657, -78.421016 38.151837, -78.421472 38.152085, -78.421861 38.152379, -78.421962 38.152456, -78.422064 38.152532, -78.422304 38.152713, -78.422489 38.152922, -78.422308 38.153476, -78.422393 38.153707, -78.422761 38.154123, -78.423016 38.154233, -78.423514 38.154305, -78.42376 38.154449, -78.424596 38.154679, -78.424715 38.154769, -78.425932 38.155163, -78.426289 38.155433, -78.427074 38.156454, -78.427612 38.15675, -78.427759 38.156916, -78.427711 38.157309))"
                                }
                            ]
                        },
                        "text/html": [
                            "<table>",
                            "<tr><th>(No column name)</th></tr>",
                            "</table>"
                        ]
                    "metadata": {}
                }
            ],
            "execution_count": 6
        },
        {
            "cell_type": "markdown",
            "source": [
                "The above text is an uncompressed representation of the geographic shape contained. This has been imported via my ShapeFiles project and inserted into the database vertbatim.\n",
                "\n",
                "  \n",
                "\n",
                "There is some question as to which coordinate refrence system to implement at this point. My feeling is that conus albers nad83 for the north america continent would be preferable.\n",
                "\n",
                "  \n",
                "\n",
                "Of note, the reference system used is contained in an accompanying xml file in the original dataset. More on this later.\n",
                "\n",
                "The upside of conus albers is it does not suffer from the distortion of applying a degree system to ever changing latitudes and longitudes that do not always have the same circumference.\n",
                "\n",
                "  \n",
                "\n",
                "The twisted warped system represnets 1 meter per unit, and therefore a simple pythagorean calculation will yield distance as the crow flies between two points.\n",
                "\n",
                "  \n",
                "\n",
                "Presently the coordinates are in EPGS:4326 or WGS:84 which is the standard geographic reference system used by, well, everyone but cartographers and GIS people.\n",
                "\n",
                "  \n",
                "\n",
                "This is the well recognized degree-minute-second (Latitude/Longitude) e/w,n/s,+/- system.\n",
                "\n",
                "  \n",
                "\n",
                "Conus albers uses a very different coordinate system, and boasts an acccuracy of 1 m.\n",
                "\n",
                "NAD83 a specific reference frame is an implementation of the Albers, more data can be found at the below link.\n",
                "\n",
                "https://epsg.io/5070  \n",
                "\n",
                "  \n",
                "\n",
                "There is a problem in SQL Servers geospatial data which relates to using difference reference systems together: they don't work.\n",
                "\n",
                "So if I can find a SIMPLE algorithm to convert to what people are used to seeing and the input accepted by most user interfaces I believe switching over to \n",
                "\n",
                "Albers to have considerable merit."
            ],
            "metadata": {
                "azdata_cell_guid": "8ee3ab5c-27b7-4416-bacc-1ec1070173f9"
            }
        },
        {
            "cell_type": "code",
            "source": [
                ""
            ],
            "metadata": {
                "azdata_cell_guid": "402d6dd2-5768-4a67-aa98-ad18b972dd4a"
            },
            "outputs": [],
            "execution_count": null
        }
    ]
}